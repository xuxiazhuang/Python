{
 "cells": [
  {
   "cell_type": "code",
   "execution_count": 20,
   "metadata": {},
   "outputs": [
    {
     "data": {
      "text/html": [
       "<div>\n",
       "<style scoped>\n",
       "    .dataframe tbody tr th:only-of-type {\n",
       "        vertical-align: middle;\n",
       "    }\n",
       "\n",
       "    .dataframe tbody tr th {\n",
       "        vertical-align: top;\n",
       "    }\n",
       "\n",
       "    .dataframe thead th {\n",
       "        text-align: right;\n",
       "    }\n",
       "</style>\n",
       "<table border=\"1\" class=\"dataframe\">\n",
       "  <thead>\n",
       "    <tr style=\"text-align: right;\">\n",
       "      <th></th>\n",
       "      <th>Grade</th>\n",
       "      <th>CourseName</th>\n",
       "      <th>startterm</th>\n",
       "      <th>startterm+courseterm</th>\n",
       "    </tr>\n",
       "  </thead>\n",
       "  <tbody>\n",
       "    <tr>\n",
       "      <th>0</th>\n",
       "      <td>A</td>\n",
       "      <td>MATH-003</td>\n",
       "      <td>13/FA</td>\n",
       "      <td>13/FA_13/FA</td>\n",
       "    </tr>\n",
       "    <tr>\n",
       "      <th>1</th>\n",
       "      <td>A-</td>\n",
       "      <td>MATH-003</td>\n",
       "      <td>13/FA</td>\n",
       "      <td>13/FA_13/FA</td>\n",
       "    </tr>\n",
       "    <tr>\n",
       "      <th>2</th>\n",
       "      <td>C+</td>\n",
       "      <td>MATH-003</td>\n",
       "      <td>13/FA</td>\n",
       "      <td>13/FA_13/FA</td>\n",
       "    </tr>\n",
       "  </tbody>\n",
       "</table>\n",
       "</div>"
      ],
      "text/plain": [
       "  Grade CourseName startterm startterm+courseterm\n",
       "0     A   MATH-003     13/FA          13/FA_13/FA\n",
       "1    A-   MATH-003     13/FA          13/FA_13/FA\n",
       "2    C+   MATH-003     13/FA          13/FA_13/FA"
      ]
     },
     "execution_count": 20,
     "metadata": {},
     "output_type": "execute_result"
    }
   ],
   "source": [
    "import pandas as pd\n",
    "df = pd.read_csv('math_bigfile_merge_data.csv')\n",
    "df = df[['Grade','CourseName','startterm','startterm+courseterm']]\n",
    "df.head(3)"
   ]
  },
  {
   "cell_type": "code",
   "execution_count": 21,
   "metadata": {},
   "outputs": [],
   "source": [
    "### isin()\n",
    "def get_grade(list1,term):\n",
    "    return df[df['Grade'].isin(list1)][df['startterm+courseterm'] == term]"
   ]
  },
  {
   "cell_type": "code",
   "execution_count": 22,
   "metadata": {},
   "outputs": [
    {
     "name": "stderr",
     "output_type": "stream",
     "text": [
      "/anaconda3/lib/python3.6/site-packages/ipykernel_launcher.py:3: UserWarning: Boolean Series key will be reindexed to match DataFrame index.\n",
      "  This is separate from the ipykernel package so we can avoid doing imports until\n"
     ]
    },
    {
     "data": {
      "text/html": [
       "<div>\n",
       "<style scoped>\n",
       "    .dataframe tbody tr th:only-of-type {\n",
       "        vertical-align: middle;\n",
       "    }\n",
       "\n",
       "    .dataframe tbody tr th {\n",
       "        vertical-align: top;\n",
       "    }\n",
       "\n",
       "    .dataframe thead th {\n",
       "        text-align: right;\n",
       "    }\n",
       "</style>\n",
       "<table border=\"1\" class=\"dataframe\">\n",
       "  <thead>\n",
       "    <tr style=\"text-align: right;\">\n",
       "      <th></th>\n",
       "      <th>Grade</th>\n",
       "      <th>CourseName</th>\n",
       "      <th>startterm</th>\n",
       "      <th>startterm+courseterm</th>\n",
       "    </tr>\n",
       "  </thead>\n",
       "  <tbody>\n",
       "    <tr>\n",
       "      <th>0</th>\n",
       "      <td>A</td>\n",
       "      <td>MATH-003</td>\n",
       "      <td>13/FA</td>\n",
       "      <td>13/FA_13/FA</td>\n",
       "    </tr>\n",
       "    <tr>\n",
       "      <th>1</th>\n",
       "      <td>A-</td>\n",
       "      <td>MATH-003</td>\n",
       "      <td>13/FA</td>\n",
       "      <td>13/FA_13/FA</td>\n",
       "    </tr>\n",
       "    <tr>\n",
       "      <th>3</th>\n",
       "      <td>A</td>\n",
       "      <td>MATH-003</td>\n",
       "      <td>13/FA</td>\n",
       "      <td>13/FA_13/FA</td>\n",
       "    </tr>\n",
       "    <tr>\n",
       "      <th>8</th>\n",
       "      <td>A-</td>\n",
       "      <td>MATH-001</td>\n",
       "      <td>13/FA</td>\n",
       "      <td>13/FA_13/FA</td>\n",
       "    </tr>\n",
       "    <tr>\n",
       "      <th>9</th>\n",
       "      <td>A</td>\n",
       "      <td>MATH-001</td>\n",
       "      <td>13/FA</td>\n",
       "      <td>13/FA_13/FA</td>\n",
       "    </tr>\n",
       "  </tbody>\n",
       "</table>\n",
       "</div>"
      ],
      "text/plain": [
       "  Grade CourseName startterm startterm+courseterm\n",
       "0     A   MATH-003     13/FA          13/FA_13/FA\n",
       "1    A-   MATH-003     13/FA          13/FA_13/FA\n",
       "3     A   MATH-003     13/FA          13/FA_13/FA\n",
       "8    A-   MATH-001     13/FA          13/FA_13/FA\n",
       "9     A   MATH-001     13/FA          13/FA_13/FA"
      ]
     },
     "execution_count": 22,
     "metadata": {},
     "output_type": "execute_result"
    }
   ],
   "source": [
    "get_grade(['A','A-'],'13/FA_13/FA').head(5)"
   ]
  },
  {
   "cell_type": "code",
   "execution_count": 23,
   "metadata": {},
   "outputs": [
    {
     "data": {
      "text/html": [
       "<div>\n",
       "<style scoped>\n",
       "    .dataframe tbody tr th:only-of-type {\n",
       "        vertical-align: middle;\n",
       "    }\n",
       "\n",
       "    .dataframe tbody tr th {\n",
       "        vertical-align: top;\n",
       "    }\n",
       "\n",
       "    .dataframe thead th {\n",
       "        text-align: right;\n",
       "    }\n",
       "</style>\n",
       "<table border=\"1\" class=\"dataframe\">\n",
       "  <thead>\n",
       "    <tr style=\"text-align: right;\">\n",
       "      <th></th>\n",
       "      <th>Grade</th>\n",
       "      <th>CourseName</th>\n",
       "      <th>startterm</th>\n",
       "      <th>startterm+courseterm</th>\n",
       "    </tr>\n",
       "  </thead>\n",
       "  <tbody>\n",
       "    <tr>\n",
       "      <th>0</th>\n",
       "      <td>A</td>\n",
       "      <td>MATH-003</td>\n",
       "      <td>13/FA</td>\n",
       "      <td>13/FA_13/FA</td>\n",
       "    </tr>\n",
       "    <tr>\n",
       "      <th>1</th>\n",
       "      <td>A-</td>\n",
       "      <td>MATH-003</td>\n",
       "      <td>13/FA</td>\n",
       "      <td>13/FA_13/FA</td>\n",
       "    </tr>\n",
       "    <tr>\n",
       "      <th>3</th>\n",
       "      <td>A</td>\n",
       "      <td>MATH-003</td>\n",
       "      <td>13/FA</td>\n",
       "      <td>13/FA_13/FA</td>\n",
       "    </tr>\n",
       "  </tbody>\n",
       "</table>\n",
       "</div>"
      ],
      "text/plain": [
       "  Grade CourseName startterm startterm+courseterm\n",
       "0     A   MATH-003     13/FA          13/FA_13/FA\n",
       "1    A-   MATH-003     13/FA          13/FA_13/FA\n",
       "3     A   MATH-003     13/FA          13/FA_13/FA"
      ]
     },
     "execution_count": 23,
     "metadata": {},
     "output_type": "execute_result"
    }
   ],
   "source": [
    "### \n",
    "list1 = ['A','A-']\n",
    "df[df['Grade'].isin(list1)].head(3)"
   ]
  },
  {
   "cell_type": "code",
   "execution_count": 24,
   "metadata": {},
   "outputs": [
    {
     "data": {
      "text/html": [
       "<div>\n",
       "<style scoped>\n",
       "    .dataframe tbody tr th:only-of-type {\n",
       "        vertical-align: middle;\n",
       "    }\n",
       "\n",
       "    .dataframe tbody tr th {\n",
       "        vertical-align: top;\n",
       "    }\n",
       "\n",
       "    .dataframe thead th {\n",
       "        text-align: right;\n",
       "    }\n",
       "</style>\n",
       "<table border=\"1\" class=\"dataframe\">\n",
       "  <thead>\n",
       "    <tr style=\"text-align: right;\">\n",
       "      <th></th>\n",
       "      <th>Grade</th>\n",
       "      <th>CourseName</th>\n",
       "      <th>startterm</th>\n",
       "      <th>startterm+courseterm</th>\n",
       "    </tr>\n",
       "  </thead>\n",
       "  <tbody>\n",
       "    <tr>\n",
       "      <th>2</th>\n",
       "      <td>C+</td>\n",
       "      <td>MATH-003</td>\n",
       "      <td>13/FA</td>\n",
       "      <td>13/FA_13/FA</td>\n",
       "    </tr>\n",
       "    <tr>\n",
       "      <th>4</th>\n",
       "      <td>B+</td>\n",
       "      <td>MATH-004</td>\n",
       "      <td>13/FA</td>\n",
       "      <td>13/FA_13/FA</td>\n",
       "    </tr>\n",
       "    <tr>\n",
       "      <th>5</th>\n",
       "      <td>C</td>\n",
       "      <td>MATH-003</td>\n",
       "      <td>13/FA</td>\n",
       "      <td>13/FA_13/FA</td>\n",
       "    </tr>\n",
       "  </tbody>\n",
       "</table>\n",
       "</div>"
      ],
      "text/plain": [
       "  Grade CourseName startterm startterm+courseterm\n",
       "2    C+   MATH-003     13/FA          13/FA_13/FA\n",
       "4    B+   MATH-004     13/FA          13/FA_13/FA\n",
       "5     C   MATH-003     13/FA          13/FA_13/FA"
      ]
     },
     "execution_count": 24,
     "metadata": {},
     "output_type": "execute_result"
    }
   ],
   "source": [
    "#### not in \n",
    "df[~df['Grade'].isin(list1)].head(3)"
   ]
  },
  {
   "cell_type": "code",
   "execution_count": null,
   "metadata": {},
   "outputs": [],
   "source": []
  },
  {
   "cell_type": "code",
   "execution_count": null,
   "metadata": {},
   "outputs": [],
   "source": []
  }
 ],
 "metadata": {
  "kernelspec": {
   "display_name": "Python 3",
   "language": "python",
   "name": "python3"
  },
  "language_info": {
   "codemirror_mode": {
    "name": "ipython",
    "version": 3
   },
   "file_extension": ".py",
   "mimetype": "text/x-python",
   "name": "python",
   "nbconvert_exporter": "python",
   "pygments_lexer": "ipython3",
   "version": "3.6.8"
  }
 },
 "nbformat": 4,
 "nbformat_minor": 2
}
