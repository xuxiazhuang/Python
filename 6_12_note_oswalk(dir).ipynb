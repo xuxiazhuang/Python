{
 "cells": [
  {
   "cell_type": "code",
   "execution_count": 2,
   "metadata": {},
   "outputs": [],
   "source": [
    "import os\n",
    "import shutil\n",
    "\n",
    "for root, dirs, files in os.walk('/path/to/folder'):\n",
    "    for f in files:\n",
    "        os.unlink(os.path.join(root, f))\n",
    "    for d in dirs:\n",
    "        shutil.rmtree(os.path.join(root, d))\n",
    "        \n",
    "###Expanding on mhawke's answer this is what I've implemented. It removes all the content of a folder but not the folder itself. \n",
    "###Tested on Linux with files, folders and symbolic links, should work on Windows as well."
   ]
  },
  {
   "cell_type": "code",
   "execution_count": null,
   "metadata": {},
   "outputs": [],
   "source": []
  }
 ],
 "metadata": {
  "kernelspec": {
   "display_name": "Python 3",
   "language": "python",
   "name": "python3"
  },
  "language_info": {
   "codemirror_mode": {
    "name": "ipython",
    "version": 3
   },
   "file_extension": ".py",
   "mimetype": "text/x-python",
   "name": "python",
   "nbconvert_exporter": "python",
   "pygments_lexer": "ipython3",
   "version": "3.6.8"
  }
 },
 "nbformat": 4,
 "nbformat_minor": 2
}
